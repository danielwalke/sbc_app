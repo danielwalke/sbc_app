{
 "cells": [
  {
   "cell_type": "code",
   "execution_count": 1,
   "metadata": {
    "collapsed": true
   },
   "outputs": [],
   "source": [
    "import numpy as np"
   ]
  },
  {
   "cell_type": "code",
   "execution_count": 113,
   "outputs": [],
   "source": [
    "id_values = [1,1,1,2,2,2,3,4,4,4,4,4]"
   ],
   "metadata": {
    "collapsed": false
   }
  },
  {
   "cell_type": "code",
   "execution_count": 114,
   "outputs": [],
   "source": [
    "d = np.random.rand(len(id_values),6)"
   ],
   "metadata": {
    "collapsed": false
   }
  },
  {
   "cell_type": "code",
   "execution_count": 115,
   "outputs": [],
   "source": [
    "d[:, 0]= id_values"
   ],
   "metadata": {
    "collapsed": false
   }
  },
  {
   "cell_type": "code",
   "execution_count": 118,
   "outputs": [],
   "source": [
    "import pandas as pd\n",
    "df = pd.DataFrame(d).sort_values(by=[0,1]).reset_index(drop=True)"
   ],
   "metadata": {
    "collapsed": false
   }
  },
  {
   "cell_type": "code",
   "execution_count": 119,
   "outputs": [
    {
     "data": {
      "text/plain": "RangeIndex(start=0, stop=12, step=1)"
     },
     "execution_count": 119,
     "metadata": {},
     "output_type": "execute_result"
    }
   ],
   "source": [
    "df.index"
   ],
   "metadata": {
    "collapsed": false
   }
  },
  {
   "cell_type": "code",
   "execution_count": 121,
   "outputs": [],
   "source": [
    "edge_index = []"
   ],
   "metadata": {
    "collapsed": false
   }
  },
  {
   "cell_type": "code",
   "execution_count": 122,
   "outputs": [
    {
     "name": "stdout",
     "output_type": "stream",
     "text": [
      "Int64Index([0, 1, 2], dtype='int64')\n",
      "Int64Index([3, 4, 5], dtype='int64')\n",
      "Int64Index([6], dtype='int64')\n",
      "Int64Index([7, 8, 9, 10, 11], dtype='int64')\n"
     ]
    }
   ],
   "source": [
    "for identifier, group in df.groupby(0):\n",
    "    ## Connect all indices with all following indices in a group -> mathematical trick where you concatenate expanded triangular matrix of the index with ranged matrix (+1 trick to mask later all entries with 0)...pretty tough to explain but makes somewhat sense in my head\n",
    "    print(group.index)\n",
    "    offset = group.index[0]\n",
    "    triu_matrix = np.triu((group.index.values + np.identity(1))[0])\n",
    "    triu_exp_matrix = np.expand_dims(triu_matrix, axis=-1)\n",
    "\n",
    "    idx_shape = group.index.shape[0]\n",
    "    idx_matrix = np.ones((idx_shape, idx_shape)) * np.arange(idx_shape) + 1 + offset\n",
    "    idx_matrix = np.transpose(idx_matrix)\n",
    "    idx_exp_matrix = np.expand_dims(idx_matrix, axis = -1)\n",
    "\n",
    "    unprocess_edges = np.concatenate((idx_exp_matrix, triu_exp_matrix), axis = -1)\n",
    "    reshaped_unprocess_edges = np.reshape(unprocess_edges, (-1, 2))\n",
    "    mask = (reshaped_unprocess_edges[:, 0]*reshaped_unprocess_edges[:, 1])!=0\n",
    "    edge_index.append((reshaped_unprocess_edges[mask] -1).astype(np.int64))"
   ],
   "metadata": {
    "collapsed": false
   }
  },
  {
   "cell_type": "code",
   "execution_count": 125,
   "outputs": [
    {
     "data": {
      "text/plain": "array([[ 0,  0],\n       [ 0,  1],\n       [ 0,  2],\n       [ 1,  1],\n       [ 1,  2],\n       [ 2,  2],\n       [ 3,  3],\n       [ 3,  4],\n       [ 3,  5],\n       [ 4,  4],\n       [ 4,  5],\n       [ 5,  5],\n       [ 6,  6],\n       [ 7,  7],\n       [ 7,  8],\n       [ 7,  9],\n       [ 7, 10],\n       [ 7, 11],\n       [ 8,  8],\n       [ 8,  9],\n       [ 8, 10],\n       [ 8, 11],\n       [ 9,  9],\n       [ 9, 10],\n       [ 9, 11],\n       [10, 10],\n       [10, 11],\n       [11, 11]])"
     },
     "execution_count": 125,
     "metadata": {},
     "output_type": "execute_result"
    }
   ],
   "source": [
    "np.concatenate(edge_index, axis = 0)"
   ],
   "metadata": {
    "collapsed": false
   }
  },
  {
   "cell_type": "code",
   "execution_count": 58,
   "outputs": [],
   "source": [
    "triu_matrix = np.triu(([0,1,2,3]+ np.identity(1))[0])"
   ],
   "metadata": {
    "collapsed": false
   }
  },
  {
   "cell_type": "code",
   "execution_count": 106,
   "outputs": [
    {
     "data": {
      "text/plain": "array([[1., 2., 3.]])"
     },
     "execution_count": 106,
     "metadata": {},
     "output_type": "execute_result"
    }
   ],
   "source": [
    "idx = [0,1,2]\n",
    "idx + np.identity(1)"
   ],
   "metadata": {
    "collapsed": false
   }
  },
  {
   "cell_type": "code",
   "execution_count": 79,
   "outputs": [],
   "source": [
    "idx_shape = 4\n",
    "idx_matrix = np.ones((idx_shape,idx_shape))* np.arange(idx_shape)+1\n",
    "idx_matrix = np.transpose(idx_matrix)"
   ],
   "metadata": {
    "collapsed": false
   }
  },
  {
   "cell_type": "code",
   "execution_count": 80,
   "outputs": [
    {
     "data": {
      "text/plain": "(array([[1., 1., 1., 1.],\n        [2., 2., 2., 2.],\n        [3., 3., 3., 3.],\n        [4., 4., 4., 4.]]),\n array([[1., 2., 3., 4.],\n        [0., 2., 3., 4.],\n        [0., 0., 3., 4.],\n        [0., 0., 0., 4.]]))"
     },
     "execution_count": 80,
     "metadata": {},
     "output_type": "execute_result"
    }
   ],
   "source": [
    "idx_matrix, triu_matrix"
   ],
   "metadata": {
    "collapsed": false
   }
  },
  {
   "cell_type": "code",
   "execution_count": 81,
   "outputs": [],
   "source": [
    "idx_exp_matrix = np.expand_dims(idx_matrix, axis = -1)"
   ],
   "metadata": {
    "collapsed": false
   }
  },
  {
   "cell_type": "code",
   "execution_count": 82,
   "outputs": [],
   "source": [
    "triu_exp_matrix = np.expand_dims(triu_matrix, axis=-1)"
   ],
   "metadata": {
    "collapsed": false
   }
  },
  {
   "cell_type": "code",
   "execution_count": 86,
   "outputs": [],
   "source": [
    "unprocess_edges = np.concatenate((idx_exp_matrix, triu_exp_matrix), axis = -1)"
   ],
   "metadata": {
    "collapsed": false
   }
  },
  {
   "cell_type": "code",
   "execution_count": 90,
   "outputs": [],
   "source": [
    "reshaped_unprocess_edges = np.reshape(unprocess_edges, (-1, 2))"
   ],
   "metadata": {
    "collapsed": false
   }
  },
  {
   "cell_type": "code",
   "execution_count": 96,
   "outputs": [],
   "source": [
    "mask = (reshaped_unprocess_edges[:, 0]*reshaped_unprocess_edges[:, 1])!=0"
   ],
   "metadata": {
    "collapsed": false
   }
  },
  {
   "cell_type": "code",
   "execution_count": 103,
   "outputs": [],
   "source": [
    "edge_index = (reshaped_unprocess_edges[mask] -1).astype(np.int64)"
   ],
   "metadata": {
    "collapsed": false
   }
  },
  {
   "cell_type": "code",
   "execution_count": 104,
   "outputs": [
    {
     "data": {
      "text/plain": "array([[0, 0],\n       [0, 1],\n       [0, 2],\n       [0, 3],\n       [1, 1],\n       [1, 2],\n       [1, 3],\n       [2, 2],\n       [2, 3],\n       [3, 3]])"
     },
     "execution_count": 104,
     "metadata": {},
     "output_type": "execute_result"
    }
   ],
   "source": [
    "edge_index"
   ],
   "metadata": {
    "collapsed": false
   }
  },
  {
   "cell_type": "code",
   "execution_count": null,
   "outputs": [],
   "source": [],
   "metadata": {
    "collapsed": false
   }
  }
 ],
 "metadata": {
  "kernelspec": {
   "display_name": "Python 3",
   "language": "python",
   "name": "python3"
  },
  "language_info": {
   "codemirror_mode": {
    "name": "ipython",
    "version": 2
   },
   "file_extension": ".py",
   "mimetype": "text/x-python",
   "name": "python",
   "nbconvert_exporter": "python",
   "pygments_lexer": "ipython2",
   "version": "2.7.6"
  }
 },
 "nbformat": 4,
 "nbformat_minor": 0
}
