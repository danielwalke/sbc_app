{
 "cells": [
  {
   "metadata": {},
   "cell_type": "code",
   "source": [
    "## Setup\n",
    "!pip install joblib==1.2.0\n",
    "!pip install scikit-learn==1.2.2\n",
    "!pip install numpy==1.26.4\n",
    "!pip install torch\n",
    "!pip install pydantic==1.10.12"
   ],
   "id": "a0fb1a93b84173e7",
   "outputs": [],
   "execution_count": null
  },
  {
   "metadata": {
    "ExecuteTime": {
     "end_time": "2025-04-02T10:00:22.595699Z",
     "start_time": "2025-04-02T10:00:22.508788Z"
    }
   },
   "cell_type": "code",
   "source": [
    "from joblib import load\n",
    "import torch\n",
    "\n",
    "from GraphPrediction import GraphCBC, GraphPrediction\n",
    "## Reference node with mean age, sex, HGB, WBC, RBC; MCV and PLT across control measurements in training set\n",
    "mean_ref_node = torch.tensor([ 56.7933,   0.5038,   7.5724,   8.2361,   4.1218,  87.7919, 243.2722])\n",
    "## Example data requires additional some anonymous id (unique for each patient), and order (whether one measurement was performed earlier or later) as integer\n",
    "graph_cbc_items = [\n",
    "\t{\"id\": 0, \"order\": 0, \"age\": 18, \"sex\": 'W', \"HGB\": 9, \"WBC\": 4, \"RBC\": 5, \"MCV\": 80, \"PLT\": 500},\n",
    "\t{\"id\": 0, \"order\": 5, \"age\": 18, \"sex\": 'W', \"HGB\": 9, \"WBC\": 40, \"RBC\": 5, \"MCV\": 80, \"PLT\": 500},\n",
    "]\n",
    "PROSPECTIVE_RF = 0.4095 ## Threshold based on ROC\n",
    "graph_cbc_items = [GraphCBC(**item) for item in graph_cbc_items]\n",
    "model = load(\"prospective_random_forest_mean_diff.joblib\")\n",
    "prediction = GraphPrediction(graph_cbc_items,\n",
    "                             model,\n",
    "                             PROSPECTIVE_RF,\n",
    "                             None,\n",
    "                             mean_ref_node)\n",
    "prediction_res = prediction.get_prospective_output()\n",
    "prediction = prediction_res.predictions\n",
    "pred_proba = prediction_res.pred_probas\n",
    "prediction, pred_proba"
   ],
   "id": "initial_id",
   "outputs": [
    {
     "name": "stdout",
     "output_type": "stream",
     "text": [
      "Start classification\n",
      "Couldnt calculate auroc\n",
      "Finished classification\n"
     ]
    },
    {
     "data": {
      "text/plain": [
       "([False, True], [0.027175217807835213, 0.613712989292668])"
      ]
     },
     "execution_count": 10,
     "metadata": {},
     "output_type": "execute_result"
    }
   ],
   "execution_count": 10
  },
  {
   "metadata": {},
   "cell_type": "code",
   "source": "",
   "id": "771f4b68284b0b4b",
   "outputs": [],
   "execution_count": null
  }
 ],
 "metadata": {
  "kernelspec": {
   "display_name": "Python 3",
   "language": "python",
   "name": "python3"
  },
  "language_info": {
   "codemirror_mode": {
    "name": "ipython",
    "version": 2
   },
   "file_extension": ".py",
   "mimetype": "text/x-python",
   "name": "python",
   "nbconvert_exporter": "python",
   "pygments_lexer": "ipython2",
   "version": "2.7.6"
  }
 },
 "nbformat": 4,
 "nbformat_minor": 5
}
