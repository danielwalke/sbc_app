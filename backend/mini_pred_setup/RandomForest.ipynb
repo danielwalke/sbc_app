{
 "cells": [
  {
   "metadata": {},
   "cell_type": "code",
   "source": [
    "## Minimal setup\n",
    "!pip install joblib==1.2.0\n",
    "!pip install scikit-learn==1.2.2\n",
    "!pip install numpy==1.26.4"
   ],
   "id": "37d4c9f91431cf06",
   "outputs": [],
   "execution_count": null
  },
  {
   "metadata": {
    "ExecuteTime": {
     "end_time": "2025-04-02T09:29:52.975772Z",
     "start_time": "2025-04-02T09:29:52.862929Z"
    }
   },
   "cell_type": "code",
   "source": [
    "from joblib import load\n",
    "\n",
    "STANDARD_RF_THRESHOLD = 0.3098 ## Threshold is estimated based on Receiver Operating Curve \n",
    "model = load('rf.joblib')\n",
    "\n",
    "## Each row: age in years, sex (1 - man, 0- woman), HGB mmol/l, WBC in Gpt/l, RBC in Tpt/l, MCV in fl, PLT in Gpt/l\n",
    "data = [[57, 1, 9.9, 8.3, 4.79, 90.4, 213.0], [88, 1, 9.9, 50.3, 4.79, 90.4, 213.0]]\n",
    "pred_proba = model.predict_proba(data)[:, 1]\n",
    "pred = pred_proba > STANDARD_RF_THRESHOLD\n",
    "pred_proba, pred"
   ],
   "id": "10933946a9e79ea7",
   "outputs": [
    {
     "data": {
      "text/plain": [
       "(array([0.05618238, 0.80231783]), array([False,  True]))"
      ]
     },
     "execution_count": 24,
     "metadata": {},
     "output_type": "execute_result"
    }
   ],
   "execution_count": 24
  }
 ],
 "metadata": {
  "kernelspec": {
   "display_name": "Python 3",
   "language": "python",
   "name": "python3"
  },
  "language_info": {
   "codemirror_mode": {
    "name": "ipython",
    "version": 2
   },
   "file_extension": ".py",
   "mimetype": "text/x-python",
   "name": "python",
   "nbconvert_exporter": "python",
   "pygments_lexer": "ipython2",
   "version": "2.7.6"
  }
 },
 "nbformat": 4,
 "nbformat_minor": 5
}
